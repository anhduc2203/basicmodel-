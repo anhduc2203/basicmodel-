{
 "cells": [
  {
   "cell_type": "code",
   "execution_count": 1,
   "metadata": {
    "ExecuteTime": {
     "end_time": "2019-02-09T07:47:31.016923Z",
     "start_time": "2019-02-09T07:47:29.883853Z"
    }
   },
   "outputs": [],
   "source": [
    "import numpy as np\n",
    "import matplotlib.pyplot as plt"
   ]
  },
  {
   "cell_type": "code",
   "execution_count": 2,
   "metadata": {
    "ExecuteTime": {
     "end_time": "2019-02-09T07:47:31.023714Z",
     "start_time": "2019-02-09T07:47:31.019868Z"
    }
   },
   "outputs": [],
   "source": [
    "import re"
   ]
  },
  {
   "cell_type": "code",
   "execution_count": 3,
   "metadata": {
    "ExecuteTime": {
     "end_time": "2019-02-09T07:47:31.124537Z",
     "start_time": "2019-02-09T07:47:31.026146Z"
    }
   },
   "outputs": [],
   "source": [
    "filepath = '/home/anhduc/Downloads/Telegram Desktop/traindatatopic.txt'"
   ]
  },
  {
   "cell_type": "code",
   "execution_count": 4,
   "metadata": {
    "ExecuteTime": {
     "end_time": "2019-02-09T07:47:31.259939Z",
     "start_time": "2019-02-09T07:47:31.127921Z"
    }
   },
   "outputs": [],
   "source": [
    "f = open(filepath,encoding='utf8')"
   ]
  },
  {
   "cell_type": "code",
   "execution_count": 5,
   "metadata": {
    "ExecuteTime": {
     "end_time": "2019-02-09T07:47:31.429894Z",
     "start_time": "2019-02-09T07:47:31.265095Z"
    }
   },
   "outputs": [],
   "source": [
    "str = f.read()"
   ]
  },
  {
   "cell_type": "markdown",
   "metadata": {},
   "source": [
    "# Preprocessing"
   ]
  },
  {
   "cell_type": "code",
   "execution_count": 6,
   "metadata": {
    "ExecuteTime": {
     "end_time": "2019-02-09T07:47:31.597822Z",
     "start_time": "2019-02-09T07:47:31.432035Z"
    }
   },
   "outputs": [
    {
     "name": "stdout",
     "output_type": "stream",
     "text": [
      "4965\n",
      "4965\n"
     ]
    }
   ],
   "source": [
    "label = re.findall(r'<label>(.*?)</label>', str)\n",
    "content = re.findall(r'<content>\\s*((?:.|\\n)*?)</content>', str)\n",
    "print(len(label))\n",
    "print(len(content))"
   ]
  },
  {
   "cell_type": "code",
   "execution_count": 7,
   "metadata": {
    "ExecuteTime": {
     "end_time": "2019-02-09T07:47:31.749784Z",
     "start_time": "2019-02-09T07:47:31.599870Z"
    }
   },
   "outputs": [],
   "source": [
    "for i in range(len(content)):\n",
    "    content[i] = re.sub(r'[^\\w\\s]','',content[i])"
   ]
  },
  {
   "cell_type": "code",
   "execution_count": 8,
   "metadata": {
    "ExecuteTime": {
     "end_time": "2019-02-09T07:47:33.730268Z",
     "start_time": "2019-02-09T07:47:31.751960Z"
    }
   },
   "outputs": [],
   "source": [
    "from underthesea import word_tokenize"
   ]
  },
  {
   "cell_type": "code",
   "execution_count": 9,
   "metadata": {
    "ExecuteTime": {
     "end_time": "2019-02-09T07:48:10.435840Z",
     "start_time": "2019-02-09T07:47:33.732638Z"
    }
   },
   "outputs": [],
   "source": [
    "for i in range(len(content)):\n",
    "    content[i] = word_tokenize(content[i], format=\"text\")"
   ]
  },
  {
   "cell_type": "code",
   "execution_count": 10,
   "metadata": {
    "ExecuteTime": {
     "end_time": "2019-02-09T07:48:12.180630Z",
     "start_time": "2019-02-09T07:48:10.437700Z"
    }
   },
   "outputs": [],
   "source": [
    "import pandas as pd"
   ]
  },
  {
   "cell_type": "code",
   "execution_count": 11,
   "metadata": {
    "ExecuteTime": {
     "end_time": "2019-02-09T07:48:12.236386Z",
     "start_time": "2019-02-09T07:48:12.184235Z"
    }
   },
   "outputs": [],
   "source": [
    "df = pd.DataFrame()\n",
    "df['content'] = content\n",
    "df['label'] = label"
   ]
  },
  {
   "cell_type": "code",
   "execution_count": 12,
   "metadata": {
    "ExecuteTime": {
     "end_time": "2019-02-09T07:48:12.414916Z",
     "start_time": "2019-02-09T07:48:12.239288Z"
    }
   },
   "outputs": [
    {
     "name": "stdout",
     "output_type": "stream",
     "text": [
      "<class 'pandas.core.frame.DataFrame'>\n",
      "RangeIndex: 4965 entries, 0 to 4964\n",
      "Data columns (total 2 columns):\n",
      "content    4965 non-null object\n",
      "label      4965 non-null object\n",
      "dtypes: object(2)\n",
      "memory usage: 77.7+ KB\n"
     ]
    }
   ],
   "source": [
    "df.info()"
   ]
  },
  {
   "cell_type": "code",
   "execution_count": 13,
   "metadata": {
    "ExecuteTime": {
     "end_time": "2019-02-09T07:48:12.490849Z",
     "start_time": "2019-02-09T07:48:12.418457Z"
    }
   },
   "outputs": [
    {
     "data": {
      "text/plain": [
       "sentiment           2552\n",
       "advertisement       1337\n",
       "other topics         393\n",
       "purchase             309\n",
       "recruit              189\n",
       "foreign language     184\n",
       "oreign language        1\n",
       "Name: label, dtype: int64"
      ]
     },
     "execution_count": 13,
     "metadata": {},
     "output_type": "execute_result"
    }
   ],
   "source": [
    "labels = df['label'].value_counts()\n",
    "labels"
   ]
  },
  {
   "cell_type": "markdown",
   "metadata": {},
   "source": [
    "# Resampling"
   ]
  },
  {
   "cell_type": "code",
   "execution_count": 14,
   "metadata": {
    "ExecuteTime": {
     "end_time": "2019-02-09T07:48:12.569552Z",
     "start_time": "2019-02-09T07:48:12.494232Z"
    }
   },
   "outputs": [],
   "source": [
    "from sklearn.utils import resample"
   ]
  },
  {
   "cell_type": "code",
   "execution_count": 15,
   "metadata": {
    "ExecuteTime": {
     "end_time": "2019-02-09T07:48:12.649303Z",
     "start_time": "2019-02-09T07:48:12.573076Z"
    }
   },
   "outputs": [],
   "source": [
    "df_majority = df[df.label=='sentiment']"
   ]
  },
  {
   "cell_type": "code",
   "execution_count": 16,
   "metadata": {
    "ExecuteTime": {
     "end_time": "2019-02-09T07:48:12.742362Z",
     "start_time": "2019-02-09T07:48:12.652250Z"
    }
   },
   "outputs": [],
   "source": [
    "df_imbalanced1 = df[df.label=='advertisement']\n",
    "df_imbalanced2 = df[df.label=='other topics']\n",
    "df_imbalanced3 = df[df.label=='purchase']\n",
    "df_imbalanced4 = df[df.label=='recruit']"
   ]
  },
  {
   "cell_type": "code",
   "execution_count": 17,
   "metadata": {
    "ExecuteTime": {
     "end_time": "2019-02-09T07:48:12.816645Z",
     "start_time": "2019-02-09T07:48:12.747640Z"
    }
   },
   "outputs": [],
   "source": [
    "df_unsampled1 = resample(df_imbalanced1, replace=True, n_samples=2552, random_state=None)\n",
    "df_unsampled2 = resample(df_imbalanced2, replace=True, n_samples=2552, random_state=None)\n",
    "df_unsampled3 = resample(df_imbalanced3, replace=True, n_samples=2552, random_state=None)\n",
    "df_unsampled4 = resample(df_imbalanced4, replace=True, n_samples=2552, random_state=None)"
   ]
  },
  {
   "cell_type": "code",
   "execution_count": 18,
   "metadata": {
    "ExecuteTime": {
     "end_time": "2019-02-09T07:48:12.895844Z",
     "start_time": "2019-02-09T07:48:12.822584Z"
    }
   },
   "outputs": [],
   "source": [
    "df_unsampled = pd.concat([df_majority, df_unsampled1])\n",
    "df_unsampled = pd.concat([df_unsampled, df_unsampled2])\n",
    "df_unsampled = pd.concat([df_unsampled, df_unsampled3])\n",
    "df_unsampled = pd.concat([df_unsampled, df_unsampled4])"
   ]
  },
  {
   "cell_type": "code",
   "execution_count": 19,
   "metadata": {
    "ExecuteTime": {
     "end_time": "2019-02-09T07:48:12.975683Z",
     "start_time": "2019-02-09T07:48:12.898431Z"
    }
   },
   "outputs": [
    {
     "data": {
      "text/plain": [
       "advertisement    2552\n",
       "purchase         2552\n",
       "recruit          2552\n",
       "other topics     2552\n",
       "sentiment        2552\n",
       "Name: label, dtype: int64"
      ]
     },
     "execution_count": 19,
     "metadata": {},
     "output_type": "execute_result"
    }
   ],
   "source": [
    "df_unsampled.label.value_counts()"
   ]
  },
  {
   "cell_type": "code",
   "execution_count": 20,
   "metadata": {
    "ExecuteTime": {
     "end_time": "2019-02-09T07:48:13.190358Z",
     "start_time": "2019-02-09T07:48:12.979783Z"
    }
   },
   "outputs": [],
   "source": [
    "def split_data(data, test_ratio):\n",
    "    shuffled_id = np.random.permutation(len(data))\n",
    "    test_set_size = int(len(data) * test_ratio)\n",
    "    test_ids = shuffled_id[:test_set_size]\n",
    "    train_ids = shuffled_id[test_set_size:]\n",
    "    return data.iloc[train_ids], data.iloc[test_ids]"
   ]
  },
  {
   "cell_type": "markdown",
   "metadata": {},
   "source": [
    "# Model"
   ]
  },
  {
   "cell_type": "code",
   "execution_count": 21,
   "metadata": {
    "ExecuteTime": {
     "end_time": "2019-02-09T07:48:13.326743Z",
     "start_time": "2019-02-09T07:48:13.193915Z"
    }
   },
   "outputs": [],
   "source": [
    "train_set, test_set = split_data(df_unsampled, 0.2)"
   ]
  },
  {
   "cell_type": "code",
   "execution_count": 22,
   "metadata": {
    "ExecuteTime": {
     "end_time": "2019-02-09T07:48:13.520322Z",
     "start_time": "2019-02-09T07:48:13.332661Z"
    }
   },
   "outputs": [],
   "source": [
    "from sklearn.feature_extraction.text import CountVectorizer\n",
    "from sklearn.feature_extraction.text import TfidfTransformer\n",
    "from sklearn.linear_model import SGDClassifier\n",
    "from sklearn.pipeline import Pipeline"
   ]
  },
  {
   "cell_type": "code",
   "execution_count": 23,
   "metadata": {
    "ExecuteTime": {
     "end_time": "2019-02-09T07:48:13.611251Z",
     "start_time": "2019-02-09T07:48:13.522970Z"
    }
   },
   "outputs": [],
   "source": [
    "text_clf = Pipeline([\n",
    "    ('cv', CountVectorizer(stop_words=None, tokenizer=None,\n",
    "                          preprocessor=None)),\n",
    "    ('tfidf', TfidfTransformer()),\n",
    "    ('clf', SGDClassifier(loss='hinge', penalty='l2',\n",
    "                         alpha=0.01, random_state=None,\n",
    "                         max_iter=5, tol=None))\n",
    "])"
   ]
  },
  {
   "cell_type": "code",
   "execution_count": 24,
   "metadata": {
    "ExecuteTime": {
     "end_time": "2019-02-09T07:48:15.006304Z",
     "start_time": "2019-02-09T07:48:13.613579Z"
    }
   },
   "outputs": [
    {
     "name": "stderr",
     "output_type": "stream",
     "text": [
      "/home/anhduc/environments/my_env/lib/python3.6/site-packages/sklearn/linear_model/stochastic_gradient.py:183: FutureWarning: max_iter and tol parameters have been added in SGDClassifier in 0.19. If max_iter is set but tol is left unset, the default value for tol in 0.19 and 0.20 will be None (which is equivalent to -infinity, so it has no effect) but will change in 0.21 to 1e-3. Specify tol to silence this warning.\n",
      "  FutureWarning)\n"
     ]
    },
    {
     "data": {
      "text/plain": [
       "Pipeline(memory=None,\n",
       "     steps=[('cv', CountVectorizer(analyzer='word', binary=False, decode_error='strict',\n",
       "        dtype=<class 'numpy.int64'>, encoding='utf-8', input='content',\n",
       "        lowercase=True, max_df=1.0, max_features=None, min_df=1,\n",
       "        ngram_range=(1, 1), preprocessor=None, stop_words=None,\n",
       "        strip_a...m_state=None, shuffle=True, tol=None,\n",
       "       validation_fraction=0.1, verbose=0, warm_start=False))])"
      ]
     },
     "execution_count": 24,
     "metadata": {},
     "output_type": "execute_result"
    }
   ],
   "source": [
    "text_clf.fit(train_set.content, train_set.label)"
   ]
  },
  {
   "cell_type": "code",
   "execution_count": 25,
   "metadata": {
    "ExecuteTime": {
     "end_time": "2019-02-09T07:48:15.246801Z",
     "start_time": "2019-02-09T07:48:15.009316Z"
    }
   },
   "outputs": [],
   "source": [
    "pred = text_clf.predict(test_set.content)"
   ]
  },
  {
   "cell_type": "code",
   "execution_count": 26,
   "metadata": {
    "ExecuteTime": {
     "end_time": "2019-02-09T07:48:15.255320Z",
     "start_time": "2019-02-09T07:48:15.248956Z"
    }
   },
   "outputs": [
    {
     "data": {
      "text/plain": [
       "0.8761755485893417"
      ]
     },
     "execution_count": 26,
     "metadata": {},
     "output_type": "execute_result"
    }
   ],
   "source": [
    "np.mean(pred==test_set.label)"
   ]
  },
  {
   "cell_type": "code",
   "execution_count": 27,
   "metadata": {
    "ExecuteTime": {
     "end_time": "2019-02-09T07:48:15.347633Z",
     "start_time": "2019-02-09T07:48:15.258586Z"
    }
   },
   "outputs": [],
   "source": [
    "from sklearn.model_selection import cross_val_score"
   ]
  },
  {
   "cell_type": "code",
   "execution_count": 28,
   "metadata": {
    "ExecuteTime": {
     "end_time": "2019-02-09T07:48:18.351695Z",
     "start_time": "2019-02-09T07:48:15.350012Z"
    }
   },
   "outputs": [
    {
     "name": "stderr",
     "output_type": "stream",
     "text": [
      "/home/anhduc/environments/my_env/lib/python3.6/site-packages/sklearn/model_selection/_split.py:2053: FutureWarning: You should specify a value for 'cv' instead of relying on the default value. The default value will change from 3 to 5 in version 0.22.\n",
      "  warnings.warn(CV_WARNING, FutureWarning)\n",
      "/home/anhduc/environments/my_env/lib/python3.6/site-packages/sklearn/linear_model/stochastic_gradient.py:183: FutureWarning: max_iter and tol parameters have been added in SGDClassifier in 0.19. If max_iter is set but tol is left unset, the default value for tol in 0.19 and 0.20 will be None (which is equivalent to -infinity, so it has no effect) but will change in 0.21 to 1e-3. Specify tol to silence this warning.\n",
      "  FutureWarning)\n"
     ]
    },
    {
     "data": {
      "text/plain": [
       "0.8693176505298602"
      ]
     },
     "execution_count": 28,
     "metadata": {},
     "output_type": "execute_result"
    }
   ],
   "source": [
    "scores = cross_val_score(text_clf, train_set.content, train_set.label, cv=None)\n",
    "scores.mean()"
   ]
  },
  {
   "cell_type": "code",
   "execution_count": 29,
   "metadata": {
    "ExecuteTime": {
     "end_time": "2019-02-09T07:48:18.357093Z",
     "start_time": "2019-02-09T07:48:18.353638Z"
    }
   },
   "outputs": [],
   "source": [
    "from sklearn.metrics import f1_score"
   ]
  },
  {
   "cell_type": "code",
   "execution_count": 30,
   "metadata": {
    "ExecuteTime": {
     "end_time": "2019-02-09T07:48:18.492574Z",
     "start_time": "2019-02-09T07:48:18.358991Z"
    }
   },
   "outputs": [
    {
     "data": {
      "text/plain": [
       "0.8734612468407512"
      ]
     },
     "execution_count": 30,
     "metadata": {},
     "output_type": "execute_result"
    }
   ],
   "source": [
    "f1_score(test_set.label, pred, average='weighted')"
   ]
  },
  {
   "cell_type": "markdown",
   "metadata": {},
   "source": [
    "# Evaluate"
   ]
  },
  {
   "cell_type": "code",
   "execution_count": 31,
   "metadata": {
    "ExecuteTime": {
     "end_time": "2019-02-09T07:48:18.558090Z",
     "start_time": "2019-02-09T07:48:18.495200Z"
    }
   },
   "outputs": [],
   "source": [
    "def evaluate(labels, test):\n",
    "    for s in labels:\n",
    "        test_label = test[test.label==s]\n",
    "        pred = text_clf.predict(test_label.content)\n",
    "        print(\"Test {}: {}\".format(s, np.mean(pred==test_label.label)))"
   ]
  },
  {
   "cell_type": "code",
   "execution_count": 32,
   "metadata": {
    "ExecuteTime": {
     "end_time": "2019-02-09T07:48:18.851019Z",
     "start_time": "2019-02-09T07:48:18.560099Z"
    }
   },
   "outputs": [
    {
     "name": "stdout",
     "output_type": "stream",
     "text": [
      "Test sentiment: 0.7358870967741935\n",
      "Test advertisement: 0.8252788104089219\n",
      "Test other topics: 0.8372549019607843\n",
      "Test purchase: 0.984251968503937\n",
      "Test recruit: 1.0\n"
     ]
    }
   ],
   "source": [
    "labels = ['sentiment', 'advertisement', 'other topics', 'purchase', 'recruit']\n",
    "evaluate(labels, test_set)"
   ]
  },
  {
   "cell_type": "code",
   "execution_count": null,
   "metadata": {},
   "outputs": [],
   "source": []
  }
 ],
 "metadata": {
  "kernelspec": {
   "display_name": "Python 3",
   "language": "python",
   "name": "python3"
  },
  "language_info": {
   "codemirror_mode": {
    "name": "ipython",
    "version": 3
   },
   "file_extension": ".py",
   "mimetype": "text/x-python",
   "name": "python",
   "nbconvert_exporter": "python",
   "pygments_lexer": "ipython3",
   "version": "3.6.7"
  }
 },
 "nbformat": 4,
 "nbformat_minor": 2
}
