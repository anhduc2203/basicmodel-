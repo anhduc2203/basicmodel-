{
 "cells": [
  {
   "cell_type": "code",
   "execution_count": 1,
   "metadata": {
    "ExecuteTime": {
     "end_time": "2019-04-13T14:11:07.385622Z",
     "start_time": "2019-04-13T14:11:06.056302Z"
    }
   },
   "outputs": [],
   "source": [
    "%matplotlib inline\n",
    "from sklearn.feature_extraction.text import CountVectorizer\n",
    "from sklearn.feature_extraction.text import TfidfTransformer\n",
    "from sklearn.linear_model import SGDClassifier\n",
    "from sklearn.pipeline import Pipeline\n",
    "from sklearn.utils import resample\n",
    "from sklearn.svm import SVC\n",
    "from sklearn.metrics import f1_score\n",
    "from sklearn.model_selection import GridSearchCV\n",
    "import time\n",
    "import numpy as np\n",
    "import pandas as pd\n",
    "import json\n",
    "import os\n",
    "import matplotlib.pyplot as plt"
   ]
  },
  {
   "cell_type": "code",
   "execution_count": 2,
   "metadata": {
    "ExecuteTime": {
     "end_time": "2019-04-13T14:11:07.402442Z",
     "start_time": "2019-04-13T14:11:07.393346Z"
    }
   },
   "outputs": [
    {
     "data": {
      "text/plain": [
       "['Phap luat',\n",
       " 'Van hoa',\n",
       " 'Suc khoe',\n",
       " 'Vi tinh',\n",
       " 'Khoa hoc',\n",
       " 'Doi song',\n",
       " 'Chinh tri Xa hoi',\n",
       " 'The gioi',\n",
       " 'The thao',\n",
       " 'Kinh doanh']"
      ]
     },
     "execution_count": 2,
     "metadata": {},
     "output_type": "execute_result"
    }
   ],
   "source": [
    "SAVE_PATH_TRAIN = '/home/anhduc/result/train_set.json'\n",
    "SAVE_PATH_TEST = '/home/anhduc/result/test_set.json'\n",
    "\n",
    "DIR_PATH = os.path.dirname(os.path.realpath('/home/anhduc/Documents/data/text/'))\n",
    "# load data\n",
    "DATA_TRAIN_PATH = os.path.join(DIR_PATH, 'text/Train_Full/')\n",
    "DATA_TEST_PATH = os.path.join(DIR_PATH, 'text/Test_Full/')\n",
    "# Danh sach nhan\n",
    "list_labels = os.listdir(path=DATA_TRAIN_PATH)\n",
    "list_labels"
   ]
  },
  {
   "cell_type": "code",
   "execution_count": 3,
   "metadata": {
    "ExecuteTime": {
     "end_time": "2019-04-13T14:11:07.466219Z",
     "start_time": "2019-04-13T14:11:07.408161Z"
    }
   },
   "outputs": [],
   "source": [
    "def split_data(data, test_ratio):\n",
    "    shuffled_id = np.random.permutation(len(data))\n",
    "    test_set_size = int(len(data) * test_ratio)\n",
    "    test_ids = shuffled_id[:test_set_size]\n",
    "    train_ids = shuffled_id[test_set_size:]\n",
    "    return data.iloc[train_ids], data.iloc[test_ids]"
   ]
  },
  {
   "cell_type": "code",
   "execution_count": 4,
   "metadata": {
    "ExecuteTime": {
     "end_time": "2019-04-13T14:11:09.525398Z",
     "start_time": "2019-04-13T14:11:07.471219Z"
    }
   },
   "outputs": [],
   "source": [
    "df_train = pd.read_json(SAVE_PATH_TRAIN)\n",
    "df_test = pd.read_json(SAVE_PATH_TEST)"
   ]
  },
  {
   "cell_type": "code",
   "execution_count": 5,
   "metadata": {
    "ExecuteTime": {
     "end_time": "2019-04-13T14:11:09.533511Z",
     "start_time": "2019-04-13T14:11:09.528894Z"
    }
   },
   "outputs": [],
   "source": [
    "data=pd.DataFrame()"
   ]
  },
  {
   "cell_type": "code",
   "execution_count": 6,
   "metadata": {
    "ExecuteTime": {
     "end_time": "2019-04-13T14:11:09.622626Z",
     "start_time": "2019-04-13T14:11:09.536020Z"
    }
   },
   "outputs": [],
   "source": [
    "data1=df_train[df_train.label==0]"
   ]
  },
  {
   "cell_type": "code",
   "execution_count": 7,
   "metadata": {
    "ExecuteTime": {
     "end_time": "2019-04-13T14:11:09.757000Z",
     "start_time": "2019-04-13T14:11:09.627266Z"
    }
   },
   "outputs": [],
   "source": [
    "for i in range(10):\n",
    "    tmp=df_train[df_train.label==i]\n",
    "    data=pd.concat([data, tmp.head(1000)], axis=0, ignore_index=True)"
   ]
  },
  {
   "cell_type": "code",
   "execution_count": 8,
   "metadata": {
    "ExecuteTime": {
     "end_time": "2019-04-13T14:11:09.818804Z",
     "start_time": "2019-04-13T14:11:09.758730Z"
    }
   },
   "outputs": [
    {
     "name": "stdout",
     "output_type": "stream",
     "text": [
      "<class 'pandas.core.frame.DataFrame'>\n",
      "RangeIndex: 10000 entries, 0 to 9999\n",
      "Data columns (total 2 columns):\n",
      "label      10000 non-null int64\n",
      "content    10000 non-null object\n",
      "dtypes: int64(1), object(1)\n",
      "memory usage: 156.3+ KB\n"
     ]
    }
   ],
   "source": [
    "data.info()"
   ]
  },
  {
   "cell_type": "code",
   "execution_count": 9,
   "metadata": {
    "ExecuteTime": {
     "end_time": "2019-04-13T14:11:09.874004Z",
     "start_time": "2019-04-13T14:11:09.821547Z"
    }
   },
   "outputs": [
    {
     "data": {
      "text/plain": [
       "7    1000\n",
       "6    1000\n",
       "5    1000\n",
       "4    1000\n",
       "3    1000\n",
       "2    1000\n",
       "9    1000\n",
       "1    1000\n",
       "8    1000\n",
       "0    1000\n",
       "Name: label, dtype: int64"
      ]
     },
     "execution_count": 9,
     "metadata": {},
     "output_type": "execute_result"
    }
   ],
   "source": [
    "data.label.value_counts()"
   ]
  },
  {
   "cell_type": "code",
   "execution_count": 10,
   "metadata": {
    "ExecuteTime": {
     "end_time": "2019-04-13T14:11:09.949901Z",
     "start_time": "2019-04-13T14:11:09.877531Z"
    }
   },
   "outputs": [],
   "source": [
    "text_clf = Pipeline([ ('cv', CountVectorizer(stop_words=None, tokenizer=None, \n",
    "                                             min_df=5, max_df=0.8, \n",
    "                                             preprocessor=None, ngram_range=(1, 2), \n",
    "                                             max_features=50000, binary=True)), \n",
    "                     ('tfidf', TfidfTransformer()), \n",
    "                     ('clf', SVC(kernel='linear')) ])"
   ]
  },
  {
   "cell_type": "code",
   "execution_count": 11,
   "metadata": {
    "ExecuteTime": {
     "end_time": "2019-04-13T14:13:17.334087Z",
     "start_time": "2019-04-13T14:11:09.952012Z"
    }
   },
   "outputs": [
    {
     "data": {
      "text/plain": [
       "Pipeline(memory=None,\n",
       "     steps=[('cv', CountVectorizer(analyzer='word', binary=True, decode_error='strict',\n",
       "        dtype=<class 'numpy.int64'>, encoding='utf-8', input='content',\n",
       "        lowercase=True, max_df=0.8, max_features=50000, min_df=5,\n",
       "        ngram_range=(1, 2), preprocessor=None, stop_words=None,\n",
       "        strip_a...r', max_iter=-1, probability=False, random_state=None,\n",
       "  shrinking=True, tol=0.001, verbose=False))])"
      ]
     },
     "execution_count": 11,
     "metadata": {},
     "output_type": "execute_result"
    }
   ],
   "source": [
    "text_clf.fit(data.content, data.label)"
   ]
  },
  {
   "cell_type": "code",
   "execution_count": 12,
   "metadata": {
    "ExecuteTime": {
     "end_time": "2019-04-13T14:13:17.340358Z",
     "start_time": "2019-04-13T14:13:17.336782Z"
    }
   },
   "outputs": [],
   "source": [
    "test=pd.DataFrame()"
   ]
  },
  {
   "cell_type": "code",
   "execution_count": 13,
   "metadata": {
    "ExecuteTime": {
     "end_time": "2019-04-13T14:13:17.485259Z",
     "start_time": "2019-04-13T14:13:17.343746Z"
    }
   },
   "outputs": [],
   "source": [
    "for i in range(10):\n",
    "    tmp=df_test[df_test.label==i]\n",
    "    test=pd.concat([test, tmp.head(1000)], axis=0, ignore_index=True)"
   ]
  },
  {
   "cell_type": "code",
   "execution_count": 14,
   "metadata": {
    "ExecuteTime": {
     "end_time": "2019-04-13T14:15:07.849950Z",
     "start_time": "2019-04-13T14:13:17.487748Z"
    }
   },
   "outputs": [
    {
     "data": {
      "text/plain": [
       "0.9038"
      ]
     },
     "execution_count": 14,
     "metadata": {},
     "output_type": "execute_result"
    }
   ],
   "source": [
    "label_pred = text_clf.predict(test.content)\n",
    "np.mean(label_pred==test.label)"
   ]
  },
  {
   "cell_type": "code",
   "execution_count": null,
   "metadata": {},
   "outputs": [],
   "source": []
  }
 ],
 "metadata": {
  "kernelspec": {
   "display_name": "Python 3",
   "language": "python",
   "name": "python3"
  },
  "language_info": {
   "codemirror_mode": {
    "name": "ipython",
    "version": 3
   },
   "file_extension": ".py",
   "mimetype": "text/x-python",
   "name": "python",
   "nbconvert_exporter": "python",
   "pygments_lexer": "ipython3",
   "version": "3.6.7"
  }
 },
 "nbformat": 4,
 "nbformat_minor": 2
}
