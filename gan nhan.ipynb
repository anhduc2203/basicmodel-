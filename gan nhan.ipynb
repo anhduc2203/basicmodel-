{
 "cells": [
  {
   "cell_type": "code",
   "execution_count": 1,
   "metadata": {
    "ExecuteTime": {
     "end_time": "2019-02-01T15:10:30.023282Z",
     "start_time": "2019-02-01T15:10:29.658226Z"
    }
   },
   "outputs": [],
   "source": [
    "import numpy as np\n",
    "import matplotlib.pyplot as plt"
   ]
  },
  {
   "cell_type": "code",
   "execution_count": 2,
   "metadata": {
    "ExecuteTime": {
     "end_time": "2019-02-01T15:10:30.035104Z",
     "start_time": "2019-02-01T15:10:30.028262Z"
    }
   },
   "outputs": [],
   "source": [
    "import re"
   ]
  },
  {
   "cell_type": "code",
   "execution_count": 3,
   "metadata": {
    "ExecuteTime": {
     "end_time": "2019-02-01T15:10:30.175062Z",
     "start_time": "2019-02-01T15:10:30.037300Z"
    }
   },
   "outputs": [],
   "source": [
    "filepath = '/home/anhduc/Downloads/Telegram Desktop/traindatatopic.txt'"
   ]
  },
  {
   "cell_type": "code",
   "execution_count": 4,
   "metadata": {
    "ExecuteTime": {
     "end_time": "2019-02-01T15:10:30.265002Z",
     "start_time": "2019-02-01T15:10:30.180020Z"
    }
   },
   "outputs": [],
   "source": [
    "f = open(filepath,encoding='utf8')"
   ]
  },
  {
   "cell_type": "code",
   "execution_count": 5,
   "metadata": {
    "ExecuteTime": {
     "end_time": "2019-02-01T15:10:30.360316Z",
     "start_time": "2019-02-01T15:10:30.272914Z"
    }
   },
   "outputs": [],
   "source": [
    "str = f.read()"
   ]
  },
  {
   "cell_type": "markdown",
   "metadata": {},
   "source": [
    "# Preprocessing"
   ]
  },
  {
   "cell_type": "code",
   "execution_count": 6,
   "metadata": {
    "ExecuteTime": {
     "end_time": "2019-02-01T15:10:30.569389Z",
     "start_time": "2019-02-01T15:10:30.362390Z"
    }
   },
   "outputs": [
    {
     "name": "stdout",
     "output_type": "stream",
     "text": [
      "4965\n",
      "4965\n"
     ]
    }
   ],
   "source": [
    "label = re.findall(r'<label>(.*?)</label>', str)\n",
    "content = re.findall(r'<content>\\s*((?:.|\\n)*?)</content>', str)\n",
    "print(len(label))\n",
    "print(len(content))"
   ]
  },
  {
   "cell_type": "code",
   "execution_count": 7,
   "metadata": {
    "ExecuteTime": {
     "end_time": "2019-02-01T15:10:30.719631Z",
     "start_time": "2019-02-01T15:10:30.571546Z"
    }
   },
   "outputs": [],
   "source": [
    "for i in range(len(content)):\n",
    "    content[i] = re.sub(r'[^\\w\\s]','',content[i])"
   ]
  },
  {
   "cell_type": "code",
   "execution_count": 8,
   "metadata": {
    "ExecuteTime": {
     "end_time": "2019-02-01T15:10:31.381594Z",
     "start_time": "2019-02-01T15:10:30.721693Z"
    }
   },
   "outputs": [],
   "source": [
    "from underthesea import word_tokenize"
   ]
  },
  {
   "cell_type": "code",
   "execution_count": 9,
   "metadata": {
    "ExecuteTime": {
     "end_time": "2019-02-01T15:11:07.908619Z",
     "start_time": "2019-02-01T15:10:31.383431Z"
    }
   },
   "outputs": [],
   "source": [
    "for i in range(len(content)):\n",
    "    content[i] = word_tokenize(content[i], format=\"text\")"
   ]
  },
  {
   "cell_type": "code",
   "execution_count": 10,
   "metadata": {
    "ExecuteTime": {
     "end_time": "2019-02-01T15:11:08.145329Z",
     "start_time": "2019-02-01T15:11:07.910981Z"
    }
   },
   "outputs": [],
   "source": [
    "import pandas as pd"
   ]
  },
  {
   "cell_type": "code",
   "execution_count": 11,
   "metadata": {
    "ExecuteTime": {
     "end_time": "2019-02-01T15:11:08.154727Z",
     "start_time": "2019-02-01T15:11:08.147413Z"
    }
   },
   "outputs": [],
   "source": [
    "df = pd.DataFrame()\n",
    "df['content'] = content\n",
    "df['label'] = label"
   ]
  },
  {
   "cell_type": "code",
   "execution_count": 12,
   "metadata": {
    "ExecuteTime": {
     "end_time": "2019-02-01T15:11:08.233803Z",
     "start_time": "2019-02-01T15:11:08.157570Z"
    }
   },
   "outputs": [
    {
     "name": "stdout",
     "output_type": "stream",
     "text": [
      "<class 'pandas.core.frame.DataFrame'>\n",
      "RangeIndex: 4965 entries, 0 to 4964\n",
      "Data columns (total 2 columns):\n",
      "content    4965 non-null object\n",
      "label      4965 non-null object\n",
      "dtypes: object(2)\n",
      "memory usage: 77.7+ KB\n"
     ]
    }
   ],
   "source": [
    "df.info()"
   ]
  },
  {
   "cell_type": "code",
   "execution_count": 13,
   "metadata": {
    "ExecuteTime": {
     "end_time": "2019-02-01T15:11:08.299676Z",
     "start_time": "2019-02-01T15:11:08.236272Z"
    }
   },
   "outputs": [
    {
     "data": {
      "text/plain": [
       "sentiment           2552\n",
       "advertisement       1337\n",
       "other topics         393\n",
       "purchase             309\n",
       "recruit              189\n",
       "foreign language     184\n",
       "oreign language        1\n",
       "Name: label, dtype: int64"
      ]
     },
     "execution_count": 13,
     "metadata": {},
     "output_type": "execute_result"
    }
   ],
   "source": [
    "labels = df['label'].value_counts()\n",
    "labels"
   ]
  },
  {
   "cell_type": "markdown",
   "metadata": {},
   "source": [
    "# Resampling"
   ]
  },
  {
   "cell_type": "code",
   "execution_count": 14,
   "metadata": {
    "ExecuteTime": {
     "end_time": "2019-02-01T15:11:08.356769Z",
     "start_time": "2019-02-01T15:11:08.301987Z"
    }
   },
   "outputs": [],
   "source": [
    "from sklearn.utils import resample"
   ]
  },
  {
   "cell_type": "code",
   "execution_count": 15,
   "metadata": {
    "ExecuteTime": {
     "end_time": "2019-02-01T15:11:08.428116Z",
     "start_time": "2019-02-01T15:11:08.359021Z"
    }
   },
   "outputs": [],
   "source": [
    "df_majority = df[df.label=='sentiment']"
   ]
  },
  {
   "cell_type": "code",
   "execution_count": 16,
   "metadata": {
    "ExecuteTime": {
     "end_time": "2019-02-01T15:11:08.496743Z",
     "start_time": "2019-02-01T15:11:08.430146Z"
    }
   },
   "outputs": [],
   "source": [
    "df_imbalanced1 = df[df.label=='advertisement']\n",
    "df_imbalanced2 = df[df.label=='other topics']\n",
    "df_imbalanced3 = df[df.label=='purchase']\n",
    "df_imbalanced4 = df[df.label=='recruit']"
   ]
  },
  {
   "cell_type": "code",
   "execution_count": 17,
   "metadata": {
    "ExecuteTime": {
     "end_time": "2019-02-01T15:11:08.561064Z",
     "start_time": "2019-02-01T15:11:08.499009Z"
    }
   },
   "outputs": [],
   "source": [
    "df_unsampled1 = resample(df_imbalanced1, replace=True, n_samples=2552, random_state=None)\n",
    "df_unsampled2 = resample(df_imbalanced2, replace=True, n_samples=2552, random_state=None)\n",
    "df_unsampled3 = resample(df_imbalanced3, replace=True, n_samples=2552, random_state=None)\n",
    "df_unsampled4 = resample(df_imbalanced4, replace=True, n_samples=2552, random_state=None)"
   ]
  },
  {
   "cell_type": "code",
   "execution_count": 18,
   "metadata": {
    "ExecuteTime": {
     "end_time": "2019-02-01T15:11:08.629778Z",
     "start_time": "2019-02-01T15:11:08.566929Z"
    }
   },
   "outputs": [],
   "source": [
    "df_unsampled = pd.concat([df_majority, df_unsampled1])\n",
    "df_unsampled = pd.concat([df_unsampled, df_unsampled2])\n",
    "df_unsampled = pd.concat([df_unsampled, df_unsampled3])\n",
    "df_unsampled = pd.concat([df_unsampled, df_unsampled4])"
   ]
  },
  {
   "cell_type": "code",
   "execution_count": 19,
   "metadata": {
    "ExecuteTime": {
     "end_time": "2019-02-01T15:11:08.692956Z",
     "start_time": "2019-02-01T15:11:08.632465Z"
    }
   },
   "outputs": [
    {
     "data": {
      "text/plain": [
       "other topics     2552\n",
       "sentiment        2552\n",
       "recruit          2552\n",
       "purchase         2552\n",
       "advertisement    2552\n",
       "Name: label, dtype: int64"
      ]
     },
     "execution_count": 19,
     "metadata": {},
     "output_type": "execute_result"
    }
   ],
   "source": [
    "df_unsampled.label.value_counts()"
   ]
  },
  {
   "cell_type": "code",
   "execution_count": 20,
   "metadata": {
    "ExecuteTime": {
     "end_time": "2019-02-01T15:11:08.780242Z",
     "start_time": "2019-02-01T15:11:08.694996Z"
    }
   },
   "outputs": [],
   "source": [
    "def split_data(data, test_ratio):\n",
    "    shuffled_id = np.random.permutation(len(data))\n",
    "    test_set_size = int(len(data) * test_ratio)\n",
    "    test_ids = shuffled_id[:test_set_size]\n",
    "    train_ids = shuffled_id[test_set_size:]\n",
    "    return data.iloc[train_ids], data.iloc[test_ids]"
   ]
  },
  {
   "cell_type": "markdown",
   "metadata": {},
   "source": [
    "# Model"
   ]
  },
  {
   "cell_type": "code",
   "execution_count": 21,
   "metadata": {
    "ExecuteTime": {
     "end_time": "2019-02-01T15:11:08.873274Z",
     "start_time": "2019-02-01T15:11:08.782353Z"
    }
   },
   "outputs": [],
   "source": [
    "train_set, test_set = split_data(df_unsampled, 0.2)"
   ]
  },
  {
   "cell_type": "code",
   "execution_count": 22,
   "metadata": {
    "ExecuteTime": {
     "end_time": "2019-02-01T15:11:08.933386Z",
     "start_time": "2019-02-01T15:11:08.875398Z"
    }
   },
   "outputs": [],
   "source": [
    "from sklearn.feature_extraction.text import CountVectorizer\n",
    "from sklearn.feature_extraction.text import TfidfTransformer\n",
    "from sklearn.linear_model import SGDClassifier\n",
    "from sklearn.pipeline import Pipeline"
   ]
  },
  {
   "cell_type": "code",
   "execution_count": 23,
   "metadata": {
    "ExecuteTime": {
     "end_time": "2019-02-01T15:11:08.999247Z",
     "start_time": "2019-02-01T15:11:08.935557Z"
    }
   },
   "outputs": [],
   "source": [
    "clf = Pipeline([\n",
    "    ('cv', CountVectorizer(stop_words=None, tokenizer=None,\n",
    "                          preprocessor=None)),\n",
    "    ('tfidf', TfidfTransformer()),\n",
    "    ('clf', SGDClassifier(loss='hinge', penalty='l2',\n",
    "                         alpha=0.01, random_state=None,\n",
    "                         max_iter=5, tol=None))\n",
    "])"
   ]
  },
  {
   "cell_type": "code",
   "execution_count": 24,
   "metadata": {
    "ExecuteTime": {
     "end_time": "2019-02-01T15:11:09.948557Z",
     "start_time": "2019-02-01T15:11:09.001410Z"
    }
   },
   "outputs": [
    {
     "name": "stderr",
     "output_type": "stream",
     "text": [
      "/home/anhduc/environments/my_env/lib/python3.6/site-packages/sklearn/linear_model/stochastic_gradient.py:183: FutureWarning: max_iter and tol parameters have been added in SGDClassifier in 0.19. If max_iter is set but tol is left unset, the default value for tol in 0.19 and 0.20 will be None (which is equivalent to -infinity, so it has no effect) but will change in 0.21 to 1e-3. Specify tol to silence this warning.\n",
      "  FutureWarning)\n"
     ]
    },
    {
     "data": {
      "text/plain": [
       "Pipeline(memory=None,\n",
       "     steps=[('cv', CountVectorizer(analyzer='word', binary=False, decode_error='strict',\n",
       "        dtype=<class 'numpy.int64'>, encoding='utf-8', input='content',\n",
       "        lowercase=True, max_df=1.0, max_features=None, min_df=1,\n",
       "        ngram_range=(1, 1), preprocessor=None, stop_words=None,\n",
       "        strip_a...m_state=None, shuffle=True, tol=None,\n",
       "       validation_fraction=0.1, verbose=0, warm_start=False))])"
      ]
     },
     "execution_count": 24,
     "metadata": {},
     "output_type": "execute_result"
    }
   ],
   "source": [
    "clf.fit(train_set.content, train_set.label)"
   ]
  },
  {
   "cell_type": "code",
   "execution_count": 25,
   "metadata": {
    "ExecuteTime": {
     "end_time": "2019-02-01T15:11:10.178832Z",
     "start_time": "2019-02-01T15:11:09.953756Z"
    }
   },
   "outputs": [],
   "source": [
    "pred = clf.predict(test_set.content)"
   ]
  },
  {
   "cell_type": "code",
   "execution_count": 26,
   "metadata": {
    "ExecuteTime": {
     "end_time": "2019-02-01T15:11:10.188003Z",
     "start_time": "2019-02-01T15:11:10.180991Z"
    }
   },
   "outputs": [
    {
     "data": {
      "text/plain": [
       "0.8640282131661442"
      ]
     },
     "execution_count": 26,
     "metadata": {},
     "output_type": "execute_result"
    }
   ],
   "source": [
    "np.mean(pred==test_set.label)"
   ]
  },
  {
   "cell_type": "code",
   "execution_count": 27,
   "metadata": {
    "ExecuteTime": {
     "end_time": "2019-02-01T15:11:10.261144Z",
     "start_time": "2019-02-01T15:11:10.190811Z"
    }
   },
   "outputs": [],
   "source": [
    "from sklearn.model_selection import cross_val_score"
   ]
  },
  {
   "cell_type": "code",
   "execution_count": 28,
   "metadata": {
    "ExecuteTime": {
     "end_time": "2019-02-01T15:11:12.992938Z",
     "start_time": "2019-02-01T15:11:10.263295Z"
    }
   },
   "outputs": [
    {
     "name": "stderr",
     "output_type": "stream",
     "text": [
      "/home/anhduc/environments/my_env/lib/python3.6/site-packages/sklearn/model_selection/_split.py:2053: FutureWarning: You should specify a value for 'cv' instead of relying on the default value. The default value will change from 3 to 5 in version 0.22.\n",
      "  warnings.warn(CV_WARNING, FutureWarning)\n",
      "/home/anhduc/environments/my_env/lib/python3.6/site-packages/sklearn/linear_model/stochastic_gradient.py:183: FutureWarning: max_iter and tol parameters have been added in SGDClassifier in 0.19. If max_iter is set but tol is left unset, the default value for tol in 0.19 and 0.20 will be None (which is equivalent to -infinity, so it has no effect) but will change in 0.21 to 1e-3. Specify tol to silence this warning.\n",
      "  FutureWarning)\n"
     ]
    },
    {
     "data": {
      "text/plain": [
       "0.8653035587698814"
      ]
     },
     "execution_count": 28,
     "metadata": {},
     "output_type": "execute_result"
    }
   ],
   "source": [
    "scores = cross_val_score(clf, train_set.content, train_set.label, cv=None)\n",
    "scores.mean()"
   ]
  },
  {
   "cell_type": "code",
   "execution_count": 29,
   "metadata": {
    "ExecuteTime": {
     "end_time": "2019-02-01T15:11:13.002890Z",
     "start_time": "2019-02-01T15:11:12.994942Z"
    }
   },
   "outputs": [],
   "source": [
    "from sklearn.metrics import f1_score"
   ]
  },
  {
   "cell_type": "code",
   "execution_count": 30,
   "metadata": {
    "ExecuteTime": {
     "end_time": "2019-02-01T15:11:13.110301Z",
     "start_time": "2019-02-01T15:11:13.005470Z"
    }
   },
   "outputs": [
    {
     "data": {
      "text/plain": [
       "0.8610231667474386"
      ]
     },
     "execution_count": 30,
     "metadata": {},
     "output_type": "execute_result"
    }
   ],
   "source": [
    "f1_score(test_set.label, pred, average='weighted')"
   ]
  },
  {
   "cell_type": "markdown",
   "metadata": {},
   "source": [
    "Evaluate"
   ]
  },
  {
   "cell_type": "code",
   "execution_count": 31,
   "metadata": {
    "ExecuteTime": {
     "end_time": "2019-02-01T15:11:13.168777Z",
     "start_time": "2019-02-01T15:11:13.112986Z"
    }
   },
   "outputs": [],
   "source": [
    "def evaluate(labels, test):\n",
    "    for s in labels:\n",
    "        test_label = test[test.label==s]\n",
    "        pred = clf.predict(test_label.content)\n",
    "        print(\"Test {}: {}\".format(s, np.mean(pred==test_label.label)))"
   ]
  },
  {
   "cell_type": "code",
   "execution_count": 32,
   "metadata": {
    "ExecuteTime": {
     "end_time": "2019-02-01T15:11:13.441303Z",
     "start_time": "2019-02-01T15:11:13.171333Z"
    }
   },
   "outputs": [
    {
     "name": "stdout",
     "output_type": "stream",
     "text": [
      "Test sentiment: 0.7167300380228137\n",
      "Test advertisement: 0.804040404040404\n",
      "Test other topics: 0.8315217391304348\n",
      "Test purchase: 0.9895615866388309\n",
      "Test recruit: 0.994\n"
     ]
    }
   ],
   "source": [
    "labels = ['sentiment', 'advertisement', 'other topics', 'purchase', 'recruit']\n",
    "evaluate(labels, test_set)"
   ]
  },
  {
   "cell_type": "code",
   "execution_count": null,
   "metadata": {},
   "outputs": [],
   "source": []
  }
 ],
 "metadata": {
  "kernelspec": {
   "display_name": "Python 3",
   "language": "python",
   "name": "python3"
  },
  "language_info": {
   "codemirror_mode": {
    "name": "ipython",
    "version": 3
   },
   "file_extension": ".py",
   "mimetype": "text/x-python",
   "name": "python",
   "nbconvert_exporter": "python",
   "pygments_lexer": "ipython3",
   "version": "3.6.7"
  }
 },
 "nbformat": 4,
 "nbformat_minor": 2
}
