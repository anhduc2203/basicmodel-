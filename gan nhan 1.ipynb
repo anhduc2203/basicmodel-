{
 "cells": [
  {
   "cell_type": "code",
   "execution_count": 1,
   "metadata": {
    "ExecuteTime": {
     "end_time": "2019-02-14T13:04:38.145245Z",
     "start_time": "2019-02-14T13:04:37.772122Z"
    }
   },
   "outputs": [],
   "source": [
    "import numpy as np\n",
    "import matplotlib.pyplot as plt"
   ]
  },
  {
   "cell_type": "code",
   "execution_count": 2,
   "metadata": {
    "ExecuteTime": {
     "end_time": "2019-02-14T13:04:38.152020Z",
     "start_time": "2019-02-14T13:04:38.147992Z"
    }
   },
   "outputs": [],
   "source": [
    "import re"
   ]
  },
  {
   "cell_type": "code",
   "execution_count": 3,
   "metadata": {
    "ExecuteTime": {
     "end_time": "2019-02-14T13:04:38.217140Z",
     "start_time": "2019-02-14T13:04:38.155030Z"
    }
   },
   "outputs": [],
   "source": [
    "filepath = '/home/anhduc/Downloads/Telegram Desktop/traindatatopic.txt'"
   ]
  },
  {
   "cell_type": "code",
   "execution_count": 4,
   "metadata": {
    "ExecuteTime": {
     "end_time": "2019-02-14T13:04:38.294021Z",
     "start_time": "2019-02-14T13:04:38.221129Z"
    }
   },
   "outputs": [],
   "source": [
    "f = open(filepath,encoding='utf8')"
   ]
  },
  {
   "cell_type": "code",
   "execution_count": null,
   "metadata": {
    "ExecuteTime": {
     "start_time": "2019-02-14T13:04:37.780Z"
    }
   },
   "outputs": [],
   "source": [
    "str = f.read()"
   ]
  },
  {
   "cell_type": "markdown",
   "metadata": {},
   "source": [
    "# Preprocessing"
   ]
  },
  {
   "cell_type": "code",
   "execution_count": null,
   "metadata": {
    "ExecuteTime": {
     "start_time": "2019-02-14T13:04:37.887Z"
    }
   },
   "outputs": [
    {
     "name": "stdout",
     "output_type": "stream",
     "text": [
      "4965\n",
      "4965\n"
     ]
    }
   ],
   "source": [
    "label = re.findall(r'<label>(.*?)</label>', str)\n",
    "content = re.findall(r'<content>\\s*((?:.|\\n)*?)</content>', str)\n",
    "print(len(label))\n",
    "print(len(content))"
   ]
  },
  {
   "cell_type": "code",
   "execution_count": null,
   "metadata": {
    "ExecuteTime": {
     "start_time": "2019-02-14T13:04:37.895Z"
    }
   },
   "outputs": [],
   "source": [
    "for i in range(len(content)):\n",
    "    content[i] = re.sub(r'[^\\w\\s]','',content[i])"
   ]
  },
  {
   "cell_type": "code",
   "execution_count": null,
   "metadata": {
    "ExecuteTime": {
     "start_time": "2019-02-14T13:04:37.897Z"
    }
   },
   "outputs": [],
   "source": [
    "from underthesea import word_tokenize"
   ]
  },
  {
   "cell_type": "code",
   "execution_count": null,
   "metadata": {
    "ExecuteTime": {
     "start_time": "2019-02-14T13:04:37.902Z"
    }
   },
   "outputs": [],
   "source": [
    "for i in range(len(content)):\n",
    "    content[i] = word_tokenize(content[i], format=\"text\")"
   ]
  },
  {
   "cell_type": "code",
   "execution_count": null,
   "metadata": {
    "ExecuteTime": {
     "start_time": "2019-02-14T13:04:37.905Z"
    }
   },
   "outputs": [],
   "source": [
    "import pandas as pd"
   ]
  },
  {
   "cell_type": "code",
   "execution_count": null,
   "metadata": {
    "ExecuteTime": {
     "start_time": "2019-02-14T13:04:37.907Z"
    }
   },
   "outputs": [],
   "source": [
    "df = pd.DataFrame()\n",
    "df['content'] = content\n",
    "df['label'] = label"
   ]
  },
  {
   "cell_type": "code",
   "execution_count": null,
   "metadata": {
    "ExecuteTime": {
     "start_time": "2019-02-14T13:04:37.911Z"
    }
   },
   "outputs": [],
   "source": [
    "df.info()"
   ]
  },
  {
   "cell_type": "code",
   "execution_count": null,
   "metadata": {
    "ExecuteTime": {
     "start_time": "2019-02-14T13:04:37.915Z"
    }
   },
   "outputs": [],
   "source": [
    "labels = df['label'].value_counts()\n",
    "labels"
   ]
  },
  {
   "cell_type": "markdown",
   "metadata": {},
   "source": [
    "# Resampling"
   ]
  },
  {
   "cell_type": "code",
   "execution_count": null,
   "metadata": {
    "ExecuteTime": {
     "start_time": "2019-02-14T13:04:37.927Z"
    }
   },
   "outputs": [],
   "source": [
    "from sklearn.utils import resample"
   ]
  },
  {
   "cell_type": "code",
   "execution_count": null,
   "metadata": {
    "ExecuteTime": {
     "start_time": "2019-02-14T13:04:37.930Z"
    }
   },
   "outputs": [],
   "source": [
    "df_majority = df[df.label=='sentiment']"
   ]
  },
  {
   "cell_type": "code",
   "execution_count": null,
   "metadata": {
    "ExecuteTime": {
     "start_time": "2019-02-14T13:04:37.933Z"
    }
   },
   "outputs": [],
   "source": [
    "df_imbalanced1 = df[df.label=='advertisement']\n",
    "df_imbalanced2 = df[df.label=='other topics']\n",
    "df_imbalanced3 = df[df.label=='purchase']\n",
    "df_imbalanced4 = df[df.label=='recruit']"
   ]
  },
  {
   "cell_type": "code",
   "execution_count": null,
   "metadata": {
    "ExecuteTime": {
     "start_time": "2019-02-14T13:04:37.936Z"
    }
   },
   "outputs": [],
   "source": [
    "df_unsampled1 = resample(df_imbalanced1, replace=True, n_samples=2552, random_state=None)\n",
    "df_unsampled2 = resample(df_imbalanced2, replace=True, n_samples=2552, random_state=None)\n",
    "df_unsampled3 = resample(df_imbalanced3, replace=True, n_samples=2552, random_state=None)\n",
    "df_unsampled4 = resample(df_imbalanced4, replace=True, n_samples=2552, random_state=None)"
   ]
  },
  {
   "cell_type": "code",
   "execution_count": null,
   "metadata": {
    "ExecuteTime": {
     "start_time": "2019-02-14T13:04:37.938Z"
    }
   },
   "outputs": [],
   "source": [
    "df_unsampled = pd.concat([df_majority, df_unsampled1])\n",
    "df_unsampled = pd.concat([df_unsampled, df_unsampled2])\n",
    "df_unsampled = pd.concat([df_unsampled, df_unsampled3])\n",
    "df_unsampled = pd.concat([df_unsampled, df_unsampled4])"
   ]
  },
  {
   "cell_type": "code",
   "execution_count": null,
   "metadata": {
    "ExecuteTime": {
     "start_time": "2019-02-14T13:04:37.941Z"
    }
   },
   "outputs": [],
   "source": [
    "df_unsampled.label.value_counts()"
   ]
  },
  {
   "cell_type": "code",
   "execution_count": null,
   "metadata": {
    "ExecuteTime": {
     "start_time": "2019-02-14T13:04:37.944Z"
    }
   },
   "outputs": [],
   "source": [
    "def split_data(data, test_ratio):\n",
    "    shuffled_id = np.random.permutation(len(data))\n",
    "    test_set_size = int(len(data) * test_ratio)\n",
    "    test_ids = shuffled_id[:test_set_size]\n",
    "    train_ids = shuffled_id[test_set_size:]\n",
    "    return data.iloc[train_ids], data.iloc[test_ids]"
   ]
  },
  {
   "cell_type": "markdown",
   "metadata": {},
   "source": [
    "# Model"
   ]
  },
  {
   "cell_type": "code",
   "execution_count": null,
   "metadata": {
    "ExecuteTime": {
     "start_time": "2019-02-14T13:04:37.954Z"
    }
   },
   "outputs": [],
   "source": [
    "train_set, test_set = split_data(df_unsampled, 0.2)"
   ]
  },
  {
   "cell_type": "code",
   "execution_count": null,
   "metadata": {
    "ExecuteTime": {
     "start_time": "2019-02-14T13:04:37.958Z"
    }
   },
   "outputs": [],
   "source": [
    "from sklearn.feature_extraction.text import CountVectorizer\n",
    "from sklearn.feature_extraction.text import TfidfTransformer\n",
    "from sklearn.linear_model import SGDClassifier\n",
    "from sklearn.pipeline import Pipeline\n",
    "from sklearn.multiclass import OneVsRestClassifier"
   ]
  },
  {
   "cell_type": "code",
   "execution_count": null,
   "metadata": {
    "ExecuteTime": {
     "start_time": "2019-02-14T13:04:37.960Z"
    }
   },
   "outputs": [],
   "source": [
    "text_clf = Pipeline([\n",
    "    ('cv', CountVectorizer(stop_words=None, tokenizer=None,\n",
    "                          preprocessor=None)),\n",
    "    ('tfidf', TfidfTransformer()),\n",
    "    ('clf', OneVsRestClassifier(SGDClassifier(loss='hinge', penalty='l2',\n",
    "                         alpha=0.01, random_state=None,\n",
    "                         max_iter=5, tol=None)))\n",
    "])"
   ]
  },
  {
   "cell_type": "code",
   "execution_count": null,
   "metadata": {
    "ExecuteTime": {
     "start_time": "2019-02-14T13:04:37.963Z"
    }
   },
   "outputs": [],
   "source": [
    "text_clf.fit(train_set.content, train_set.label)"
   ]
  },
  {
   "cell_type": "code",
   "execution_count": null,
   "metadata": {
    "ExecuteTime": {
     "start_time": "2019-02-14T13:04:37.968Z"
    }
   },
   "outputs": [],
   "source": [
    "pred = text_clf.predict(test_set.content)"
   ]
  },
  {
   "cell_type": "code",
   "execution_count": null,
   "metadata": {
    "ExecuteTime": {
     "start_time": "2019-02-14T13:04:37.970Z"
    }
   },
   "outputs": [],
   "source": [
    "np.mean(pred==test_set.label)"
   ]
  },
  {
   "cell_type": "markdown",
   "metadata": {},
   "source": [
    "# Evaluate"
   ]
  },
  {
   "cell_type": "markdown",
   "metadata": {},
   "source": [
    "Cross_val_score"
   ]
  },
  {
   "cell_type": "code",
   "execution_count": null,
   "metadata": {
    "ExecuteTime": {
     "start_time": "2019-02-14T13:04:37.982Z"
    }
   },
   "outputs": [],
   "source": [
    "from sklearn.model_selection import cross_val_score"
   ]
  },
  {
   "cell_type": "code",
   "execution_count": null,
   "metadata": {
    "ExecuteTime": {
     "start_time": "2019-02-14T13:04:37.986Z"
    }
   },
   "outputs": [],
   "source": [
    "scores = cross_val_score(text_clf, train_set.content, train_set.label, cv=None)\n",
    "scores.mean()"
   ]
  },
  {
   "cell_type": "markdown",
   "metadata": {},
   "source": [
    "F1_score"
   ]
  },
  {
   "cell_type": "code",
   "execution_count": null,
   "metadata": {
    "ExecuteTime": {
     "start_time": "2019-02-14T13:04:37.992Z"
    }
   },
   "outputs": [],
   "source": [
    "from sklearn.metrics import f1_score"
   ]
  },
  {
   "cell_type": "code",
   "execution_count": null,
   "metadata": {
    "ExecuteTime": {
     "start_time": "2019-02-14T13:04:37.997Z"
    }
   },
   "outputs": [],
   "source": [
    "f1_score(test_set.label, pred, average='weighted')"
   ]
  },
  {
   "cell_type": "code",
   "execution_count": null,
   "metadata": {
    "ExecuteTime": {
     "start_time": "2019-02-14T13:04:37.999Z"
    }
   },
   "outputs": [],
   "source": [
    "def evaluate(labels, test):\n",
    "    for s in labels:\n",
    "        test_label = test[test.label==s]\n",
    "        pred = text_clf.predict(test_label.content)\n",
    "        print(\"Test {}: {}\".format(s, np.mean(pred==test_label.label)))"
   ]
  },
  {
   "cell_type": "code",
   "execution_count": null,
   "metadata": {
    "ExecuteTime": {
     "start_time": "2019-02-14T13:04:38.001Z"
    }
   },
   "outputs": [],
   "source": [
    "labels = ['sentiment', 'advertisement', 'other topics', 'purchase', 'recruit']\n",
    "evaluate(labels, test_set)"
   ]
  },
  {
   "cell_type": "markdown",
   "metadata": {},
   "source": [
    "Roc_curve "
   ]
  },
  {
   "cell_type": "code",
   "execution_count": null,
   "metadata": {
    "ExecuteTime": {
     "start_time": "2019-02-14T13:04:38.007Z"
    }
   },
   "outputs": [],
   "source": [
    "from sklearn.metrics import roc_curve\n",
    "from sklearn.model_selection import cross_val_predict\n",
    "from sklearn.preprocessing import label_binarize"
   ]
  },
  {
   "cell_type": "code",
   "execution_count": null,
   "metadata": {
    "ExecuteTime": {
     "start_time": "2019-02-14T13:04:38.013Z"
    }
   },
   "outputs": [],
   "source": [
    "y_train = label_binarize(train_set.label, classes=['sentiment', 'advertisement', 'other topics', 'purchase', 'recruit'])"
   ]
  },
  {
   "cell_type": "code",
   "execution_count": null,
   "metadata": {
    "ExecuteTime": {
     "start_time": "2019-02-14T13:04:38.019Z"
    }
   },
   "outputs": [],
   "source": [
    "y_scores = cross_val_predict(text_clf, train_set.content, train_set.label, cv=3, method=\"decision_function\")"
   ]
  },
  {
   "cell_type": "code",
   "execution_count": null,
   "metadata": {
    "ExecuteTime": {
     "start_time": "2019-02-14T13:04:38.023Z"
    }
   },
   "outputs": [],
   "source": [
    "y_scores"
   ]
  },
  {
   "cell_type": "code",
   "execution_count": null,
   "metadata": {
    "ExecuteTime": {
     "start_time": "2019-02-14T13:04:38.026Z"
    }
   },
   "outputs": [],
   "source": [
    "n_classes = 5\n",
    "fpr = dict()\n",
    "tpr = dict()\n",
    "roc_cur = dict()\n",
    "for i in range(n_classes):\n",
    "    fpr[i], tpr[i], thresholds = roc_curve(y_train[:,i], y_scores[:,i]) "
   ]
  },
  {
   "cell_type": "markdown",
   "metadata": {},
   "source": [
    "Graph"
   ]
  },
  {
   "cell_type": "code",
   "execution_count": null,
   "metadata": {
    "ExecuteTime": {
     "start_time": "2019-02-14T13:04:38.036Z"
    }
   },
   "outputs": [],
   "source": [
    "import matplotlib.pyplot as plt"
   ]
  },
  {
   "cell_type": "code",
   "execution_count": null,
   "metadata": {
    "ExecuteTime": {
     "start_time": "2019-02-14T13:04:38.039Z"
    }
   },
   "outputs": [],
   "source": [
    "def plot_roc_curve(fpr, tpr, labels, n_classes):\n",
    "    plt.figure()\n",
    "    plt.title(\"Roc_curve\")\n",
    "    plt.plot([0, 1], [0, 1], 'k--')\n",
    "    plt.axis([0, 1, 0, 1])\n",
    "    plt.xlabel('FPR')\n",
    "    plt.ylabel('TPR')\n",
    "    for i in range(n_classes):\n",
    "        plt.plot(fpr[i], tpr[i], linewidth=2, label=labels[i])\n",
    "    plt.legend(loc=\"lower right\")\n",
    "    plt.show()"
   ]
  },
  {
   "cell_type": "code",
   "execution_count": null,
   "metadata": {
    "ExecuteTime": {
     "start_time": "2019-02-14T13:04:38.041Z"
    },
    "scrolled": true
   },
   "outputs": [],
   "source": [
    "plot_roc_curve(fpr, tpr, labels, n_classes)"
   ]
  },
  {
   "cell_type": "code",
   "execution_count": null,
   "metadata": {},
   "outputs": [],
   "source": []
  }
 ],
 "metadata": {
  "kernelspec": {
   "display_name": "Python 3",
   "language": "python",
   "name": "python3"
  },
  "language_info": {
   "codemirror_mode": {
    "name": "ipython",
    "version": 3
   },
   "file_extension": ".py",
   "mimetype": "text/x-python",
   "name": "python",
   "nbconvert_exporter": "python",
   "pygments_lexer": "ipython3",
   "version": "3.6.7"
  }
 },
 "nbformat": 4,
 "nbformat_minor": 2
}
